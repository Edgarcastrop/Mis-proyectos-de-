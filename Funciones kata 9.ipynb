{
 "cells": [
  {
   "cell_type": "code",
   "execution_count": 6,
   "metadata": {},
   "outputs": [
    {
     "name": "stdout",
     "output_type": "stream",
     "text": [
      "october\n",
      "november\n",
      "december\n"
     ]
    }
   ],
   "source": []
  },
  {
   "cell_type": "markdown",
   "metadata": {},
   "source": [
    "## Ejercicio: Uso de funciones en Python\n"
   ]
  },
  {
   "cell_type": "code",
   "execution_count": 2,
   "metadata": {},
   "outputs": [],
   "source": [
    "def combustible_rocket (tanque_turbinas, tanque_interno, tanque_superior,):\n",
    "    promedio_total = (tanque_turbinas + tanque_interno + tanque_superior) / 3\n",
    "    print (combustible_rocket(tanque_turbinas, tanque_interno, tanque_superior))\n",
    "    return f''' reporte de gasolina:\n",
    "    Promedio total: {promedio_total}%\n",
    "    Tanque de las turbinas total: {tanque_turbinas}%\n",
    "    Tanque interno total: {tanque_interno}%\n",
    "    Tanque superior total: {tanque_superior}%'''\n"
   ]
  },
  {
   "cell_type": "code",
   "execution_count": 3,
   "metadata": {},
   "outputs": [],
   "source": [
    "print(combustible_rocket(45, 67, 87))"
   ]
  },
  {
   "cell_type": "code",
   "execution_count": 2,
   "metadata": {},
   "outputs": [
    {
     "data": {
      "text/plain": [
       "53.333333333333336"
      ]
     },
     "execution_count": 2,
     "metadata": {},
     "output_type": "execute_result"
    }
   ],
   "source": [
    "def promedio(values):\n",
    "    total = sum(values)\n",
    "    number_items = len(values)\n",
    "    return total / number_items\n",
    "\n",
    "promedio([45, 76, 39])"
   ]
  },
  {
   "cell_type": "code",
   "execution_count": 3,
   "metadata": {},
   "outputs": [
    {
     "name": "stdout",
     "output_type": "stream",
     "text": [
      "56 47 34\n"
     ]
    }
   ],
   "source": [
    "def combustible_rocket (tanque_turbinas, tanque_interno, tanque_superior,):\n",
    "    promedio_total = (tanque_turbinas + tanque_interno + tanque_superior) / 3\n",
    "    return f''' reporte de gasolina:\n",
    "    Promedio total: {promedio_total}%\n",
    "    Tanque de las turbinas total: {tanque_turbinas}%\n",
    "    Tanque interno total: {tanque_interno}%\n",
    "    Tanque superior total: {tanque_superior}%'''\n",
    "print(56, 47, 34)"
   ]
  },
  {
   "cell_type": "markdown",
   "metadata": {},
   "source": [
    "## Ejercicio 2: Trabajo con argumentos de palabra clave\n"
   ]
  },
  {
   "cell_type": "code",
   "execution_count": 6,
   "metadata": {},
   "outputs": [
    {
     "name": "stdout",
     "output_type": "stream",
     "text": [
      "<function informe at 0x00000213C39981F0>\n",
      "Reporte general:\n",
      "    Tiempo total: 135 minutos\n",
      "    Combustimble total 8500 galones\n",
      "    Destino final: Marte\n"
     ]
    }
   ],
   "source": [
    "from datetime import timedelta, datetime\n",
    "\n",
    "def informe (tiempo_despliegue,tiempo_vuelo, tanque_interno, tanque_superior, destino):\n",
    "    print(informe)\n",
    "    return f'''Reporte general:\n",
    "    Tiempo total: {tiempo_despliegue + tiempo_vuelo} minutos\n",
    "    Combustimble total {tanque_interno + tanque_superior} galones\n",
    "    Destino final: {destino}'''\n",
    "print(informe(15, 120, 3500, 5000, 'Marte'))\n",
    "    \n"
   ]
  },
  {
   "cell_type": "code",
   "execution_count": 18,
   "metadata": {},
   "outputs": [
    {
     "name": "stdout",
     "output_type": "stream",
     "text": [
      "El informe:\n",
      "    Destino final: Marte\n",
      "    Tiempo total: 249  minutos\n",
      "    Combustible total: 984636\n",
      "\n",
      "    \n"
     ]
    }
   ],
   "source": [
    "def informe(destino, *minutos,**reserva):\n",
    "    return f\"\"\"El informe:\n",
    "    Destino final: {destino}\n",
    "    Tiempo total: {sum(minutos)}  minutos\n",
    "    Combustible total: {sum(reserva.values())}\n",
    "\n",
    "    \"\"\" \n",
    "print(informe('Marte', 125,35, 89, interior = 899636, superior = 85000))"
   ]
  },
  {
   "cell_type": "code",
   "execution_count": 35,
   "metadata": {},
   "outputs": [
    {
     "name": "stdout",
     "output_type": "stream",
     "text": [
      "\n",
      "    Vamos para: Marte\n",
      "    Tiempo total: 48 minutos\n",
      "    Gasolina total: 1260400\n",
      "    En el tanque interior faltan 560000 galones\n",
      "En el tanque exterior faltan 700400 galones\n",
      "\n"
     ]
    }
   ],
   "source": [
    "def reporte(destino, *minutos, **reserva):\n",
    "    reporte = f\"\"\"\n",
    "    Vamos para: {destino}\n",
    "    Tiempo total: {sum(minutos)} minutos\n",
    "    Gasolina total: {sum(reserva.values())}\n",
    "    \"\"\"\n",
    "    for tanque, galones in reserva.items():\n",
    "        reporte += f\"En el tanque {tanque} faltan {galones} galones\\n\"\n",
    "    return reporte\n",
    "print(reporte('Marte', 11, 23, 14, interior = 560000, exterior = 700400))"
   ]
  }
 ],
 "metadata": {
  "interpreter": {
   "hash": "9bf2ca0f4a7adc3ce2f237ca763c1538d3ef289a4e7face3612a01cdae9f6807"
  },
  "kernelspec": {
   "display_name": "Python 3.10.2 64-bit",
   "language": "python",
   "name": "python3"
  },
  "language_info": {
   "codemirror_mode": {
    "name": "ipython",
    "version": 3
   },
   "file_extension": ".py",
   "mimetype": "text/x-python",
   "name": "python",
   "nbconvert_exporter": "python",
   "pygments_lexer": "ipython3",
   "version": "3.10.2"
  },
  "orig_nbformat": 4
 },
 "nbformat": 4,
 "nbformat_minor": 2
}
