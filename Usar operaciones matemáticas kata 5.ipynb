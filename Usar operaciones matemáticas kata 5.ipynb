{
 "cells": [
  {
   "cell_type": "code",
   "execution_count": null,
   "metadata": {},
   "outputs": [],
   "source": []
  },
  {
   "cell_type": "markdown",
   "metadata": {},
   "source": [
    "## Ejercicio1 - Utilizar operadores aritméticos\n"
   ]
  },
  {
   "cell_type": "code",
   "execution_count": 1,
   "metadata": {},
   "outputs": [
    {
     "name": "stdout",
     "output_type": "stream",
     "text": [
      "628949330\n"
     ]
    }
   ],
   "source": [
    "tierra = 149597870 #km\n",
    "jupiter = 778547200 #km\n",
    "\n",
    "distancia = tierra - jupiter\n",
    "\n",
    "print(abs (distancia))"
   ]
  },
  {
   "cell_type": "code",
   "execution_count": 5,
   "metadata": {},
   "outputs": [
    {
     "name": "stdout",
     "output_type": "stream",
     "text": [
      "390810874.13143003\n"
     ]
    }
   ],
   "source": [
    "millas = distancia * float(0.621371)\n",
    "print((float(millas)))"
   ]
  },
  {
   "cell_type": "markdown",
   "metadata": {},
   "source": [
    "## Ejercicio 2: convierte cadenas en números y usa valores absolutos\n"
   ]
  },
  {
   "cell_type": "code",
   "execution_count": 1,
   "metadata": {},
   "outputs": [],
   "source": [
    "primer_planeta = input(\"Introduce la distancia del primer sol a un planeta en km\")\n",
    "segundo_planeta = input(\"Introduce la segunda distancia del sol a otro planeta en km\")"
   ]
  },
  {
   "cell_type": "code",
   "execution_count": 2,
   "metadata": {},
   "outputs": [],
   "source": [
    "primer_planeta = int(primer_planeta)\n",
    "segundo_planeta = int(segundo_planeta)"
   ]
  },
  {
   "cell_type": "code",
   "execution_count": 3,
   "metadata": {},
   "outputs": [
    {
     "name": "stdout",
     "output_type": "stream",
     "text": [
      "50300000\n"
     ]
    }
   ],
   "source": [
    "diferencia_km = primer_planeta - segundo_planeta\n",
    "print(abs(diferencia_km))"
   ]
  },
  {
   "cell_type": "code",
   "execution_count": 5,
   "metadata": {},
   "outputs": [
    {
     "name": "stdout",
     "output_type": "stream",
     "text": [
      "31236300.0\n"
     ]
    }
   ],
   "source": [
    "diferencia_milla = diferencia_km * 0.621\n",
    "print(abs(diferencia_milla))"
   ]
  }
 ],
 "metadata": {
  "interpreter": {
   "hash": "9bf2ca0f4a7adc3ce2f237ca763c1538d3ef289a4e7face3612a01cdae9f6807"
  },
  "kernelspec": {
   "display_name": "Python 3.10.2 64-bit",
   "language": "python",
   "name": "python3"
  },
  "language_info": {
   "codemirror_mode": {
    "name": "ipython",
    "version": 3
   },
   "file_extension": ".py",
   "mimetype": "text/x-python",
   "name": "python",
   "nbconvert_exporter": "python",
   "pygments_lexer": "ipython3",
   "version": "3.10.2"
  },
  "orig_nbformat": 4
 },
 "nbformat": 4,
 "nbformat_minor": 2
}
